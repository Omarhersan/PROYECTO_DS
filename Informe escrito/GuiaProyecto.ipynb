{
 "cells": [
  {
   "cell_type": "markdown",
   "metadata": {},
   "source": [
    "# Guía para presentación de proyectos.\n",
    "> Se especifican los componentes básicos que deberá tener el proyecto final del curso `Proyecto en Ciencia de Datos`."
   ]
  },
  {
   "cell_type": "markdown",
   "metadata": {},
   "source": [
    "___\n",
    "## 1. Entregable.\n",
    "Los trabajos deben tener los siguientes componentes básicos.\n",
    "\n",
    "#### 1. **Título del trabajo:**\n",
    "\n",
    "Employee safty assistant \n",
    "\n",
    "#### 2. **Introducción:**\n",
    "\n",
    "La seguridad de los trabajadores es una prioridad para nuestro proyecto. En este caso las obras de construcción ITESO, es especialmente importante garantizar que los trabajadores utilicen los equipos de seguridad adecuados para evitar accidentes.\n",
    "Se busca la implementación de un modelo de detección de equipo de seguridad al trabajar para poder ayudar con garantizar la seguridad del trabajador.\n",
    " Se usará para detectar si los trabajadores están usando casco y chaleco.\n",
    "\n",
    "\n",
    "#### 3. **Antecedentes:**\n",
    "\n",
    "En varias construcciones a lo largo de GDL se ha podido ver gracias a las noticias o a compañeros que se dedican a la construcción que en muchas obras los trabajadores no siguen las medidas de seguridad lo que causa grandes perdidas no solo humanas sino también monetarias para la empresa o la constructora encargada, por lo que con la ayuda de los modelos ya pre entrenados y el poder darle etiquetas a los objetos dentro de imágenes vimos viable el hacer un modelo que pueda dar una solución a esos problemas.\n",
    "\n",
    "#### 4. **Objetivos:**\n",
    "\n",
    "**Objetivos Generales:**\n",
    "+ El objetivo es desarrollar un modelo computacional que de una alarma si detecta a una persona sin su casco de seguridad.\n",
    "+ Esto está pensado para ser desarrollado en una construction.\n",
    "+ El poder hacer que se tenga una mayor seguridad en los lugares de construcción.\n",
    "+ El también poder implementar lo visto en clase y hacer que el modelo funcione de manera correcta.\n",
    "\n",
    "    \n",
    "**Objetivos Específicos:**\n",
    "+ Si el modelo detecta que un trabajador no está usando el equipo de seguridad adecuado, emitirá una alerta.\n",
    "+ El poder hacer uso de YOLOV5 que es un modelo de aprendizaje automático.\n",
    "+ El crear una api funcional para poder implementar el modelo en varias construcciones.\n",
    "\n",
    "\n",
    "#### 5. **Planteamiento del problema:**\n",
    "\n",
    "En las construcciones muchas veces las medidas de seguridad no son seguidas por los trabajadores por lo que pasan accidentes que se podrían evitar\n",
    "sin la necesidad de que estuviera un supervisor siempre pendiente de todos los trabajadores, esto puede ayudar a que la empresa tenga menos accidentes\n",
    "fatales, para lograr esto investigamos que siempre en las obras hay una entrada donde se deben registrar o al menos anunciar que los trabajadores llegaron, así que en dichas entradas sería el poner una camara para que grabe y de las alertas de sí algún trabajador no cumple con las normas de seguridad.\n",
    "\n",
    "#### 6. **Desarrollo de la solución:**\n",
    "Esta es la parte central del informe y debe dividirse en varias subsecciones:\n",
    "\n",
    "+ **EDA (Análisis Exploratorio de Datos):** Hicimos el análisis del dataset de imagenes que conseguimos de la página web Roboflow y el hacer Bboxes de estos para tener una mejor idea de este.\n",
    "\n",
    "+ **Data Wrangling:** El dataset ya venia limpio por lo que lo único que hicimos fue la separación de los datos en train, test y validation.\n",
    "\n",
    "+ **Dataset final a trabajar:** Usamos todos los datos del dataset que son un aproximado de 1200 imagenes ya que en el modelo vamos a usar la ubicación de los objetos para su predicción por lo que necesitamos la mayoría de datos que podamos usar.\n",
    "\n",
    "+ **Entrenamiento del modelo:** Hicimos varios experimentos que fueron cargados a mlflow en los cuales usamos modelos pre-entrenados de YOLO en especifico el YOLOv8, estos con sus diferentes variantes, el nano, short y medium .\n",
    "\n",
    "+ **Servir el modelo (API):** Se creeo la API con un front end para que se puede subir un archivo de imagen, ya sea png, jpeg o gif en el que te diga si en esa imagen se encuentra el equipo de seguridad adecuado en las especificaciones del modelo.\n",
    "\n",
    "+ **Conteneirizar del servicio:** Se creo un archivo docker con las especificaciones para nuestra API y de ahí se creo la imagen y el contenedor de esta para poder subir e implementarla a una instancia a base de Ubuntu creada en AWS.\n",
    "\n",
    "+ **Despliegue del servicio en la nube y monitoreo:** Se creo la instancia para que se puedan hacer peticiones de tipo http y https en cualquier dirección ip y para las peticiones de ssh en la dirección ip del ITESO así como de la casa de los integrantes del equipo.\n",
    "\n",
    "#### 7. **Conclusiones:**\n",
    "Lo que se logró con este proyecto fue una aplicación ya de un buen nivel ya que este tipo de aplicaciones se pueden usar en empresas o en cuestiones un poco ya más profesionales, tuvimos como resultados el poder hacer predicciones de si los lineamientos de seguridad de construcción se cumplieron al usar imágenes de el lugar de construcción o de los trabajadores, un logro que tuvimos como equipo fue el poder usar ultralytics y los modelos de YOLO para poder hacer este proyecto, ya que en las actividades que vimos en clases usamos diferentes tipos de modelos, así que el usar este modelo y poder implementarlo a dagshub y mlflow fue un logro del equipo.\n",
    "\n",
    "Uno de los mayores desafíos fue justo la implementación de la aplicación en el servidor de AWS ya que al generar los contenedores hubo un problema con la capacidad de almacenamiento al generar estos, recomendaría buscar una instancia con mayor capacidad pero ya eso depende de si es gratuita o se deba pagar.\n",
    "\n",
    "Se podría hacer un backend en la aplicación y ver si se podría implementar que se puedan hacer predicciones en videos dentro de la aplicación.\n",
    "\n",
    "\n",
    "\n",
    "\n",
    "#### 8. **Referencias:**\n",
    "https://stackoverflow.com/questions/74257062/error-could-not-build-wheels-for-psutil-which-is-required-to-install-pyproject\n",
    "https://stackoverflow.com/questions/44664900/oserror-errno-28-no-space-left-on-device-docker-but-i-have-space\n",
    "https://docs.ultralytics.com/integrations/mlflow/\n",
    "https://docs.ultralytics.com\n"
   ]
  },
  {
   "cell_type": "markdown",
   "source": [],
   "metadata": {
    "collapsed": false
   }
  }
 ],
 "metadata": {
  "kernelspec": {
   "display_name": "Python 3 (ipykernel)",
   "language": "python",
   "name": "python3"
  },
  "language_info": {
   "codemirror_mode": {
    "name": "ipython",
    "version": 3
   },
   "file_extension": ".py",
   "mimetype": "text/x-python",
   "name": "python",
   "nbconvert_exporter": "python",
   "pygments_lexer": "ipython3",
   "version": "3.9.12"
  }
 },
 "nbformat": 4,
 "nbformat_minor": 4
}
